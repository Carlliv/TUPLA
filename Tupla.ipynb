{
  "nbformat": 4,
  "nbformat_minor": 0,
  "metadata": {
    "colab": {
      "provenance": [],
      "name": "Tupla.ipynb",
      "authorship_tag": "ABX9TyPjsR6q7Rp2ypZm7ojE+hCF"
    },
    "kernelspec": {
      "name": "python3",
      "display_name": "Python 3"
    },
    "language_info": {
      "name": "python"
    }
  },
  "cells": [
    {
      "cell_type": "code",
      "execution_count": 11,
      "metadata": {
        "id": "OdZyuuf9Y208",
        "outputId": "462bc53f-5bc8-4eb9-fb61-e3f8a596d479",
        "colab": {
          "base_uri": "https://localhost:8080/"
        }
      },
      "outputs": [
        {
          "output_type": "stream",
          "name": "stdout",
          "text": [
            "La tupla esta conformada por:  ('Buenos días', 3.14159265, 'TRUE', 135, 46) y tiene longitud de 5\n"
          ]
        }
      ],
      "source": [
        "tupla=('Buenos días',3.14159265,'TRUE',135,5*7+23-12)\n",
        "print('La tupla esta conformada por: ',tupla,'y tiene longitud de', len(tupla))"
      ]
    },
    {
      "cell_type": "code",
      "source": [
        "lista=list(tupla)\n",
        "lista"
      ],
      "metadata": {
        "id": "wlYX0nbPgQbF",
        "outputId": "4621d7d2-247e-4851-b178-8b528912ad0f",
        "colab": {
          "base_uri": "https://localhost:8080/"
        }
      },
      "execution_count": 8,
      "outputs": [
        {
          "output_type": "execute_result",
          "data": {
            "text/plain": [
              "['Buenos días', 3.14159265, 'TRUE', 135, 46]"
            ]
          },
          "metadata": {},
          "execution_count": 8
        }
      ]
    },
    {
      "cell_type": "code",
      "source": [
        "type(lista)"
      ],
      "metadata": {
        "id": "-Cw2IUxmgvFB",
        "outputId": "66cc4ceb-8460-42e6-83e8-3f8137b719fe",
        "colab": {
          "base_uri": "https://localhost:8080/"
        }
      },
      "execution_count": 12,
      "outputs": [
        {
          "output_type": "execute_result",
          "data": {
            "text/plain": [
              "list"
            ]
          },
          "metadata": {},
          "execution_count": 12
        }
      ]
    },
    {
      "cell_type": "code",
      "source": [
        "dic={1,2,3,4,5}\n",
        "dic=dict(zip(dic,lista))\n",
        "dic"
      ],
      "metadata": {
        "id": "_3vM27O_hU-G",
        "outputId": "5cfec27c-e609-4357-a3f5-a234bbe3ba51",
        "colab": {
          "base_uri": "https://localhost:8080/"
        }
      },
      "execution_count": 17,
      "outputs": [
        {
          "output_type": "execute_result",
          "data": {
            "text/plain": [
              "{1: 'Buenos días', 2: 3.14159265, 3: 'TRUE', 4: 135, 5: 46}"
            ]
          },
          "metadata": {},
          "execution_count": 17
        }
      ]
    }
  ]
}